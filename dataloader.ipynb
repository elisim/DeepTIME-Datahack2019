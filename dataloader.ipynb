{
 "cells": [
  {
   "cell_type": "markdown",
   "metadata": {},
   "source": [
    "#### model = Concat signatures with pose -> Dense -> softmax with 100 classes. \n",
    "#### run model for each frame in a seq, and then take majority vote"
   ]
  },
  {
   "cell_type": "code",
   "execution_count": 1,
   "metadata": {
    "pycharm": {
     "is_executing": false
    }
   },
   "outputs": [],
   "source": [
    "from data import *"
   ]
  },
  {
   "cell_type": "code",
   "execution_count": 2,
   "metadata": {
    "pycharm": {
     "is_executing": false
    }
   },
   "outputs": [],
   "source": [
    "pose_paths, keypoints, scores = read_pose('data/pose.pkl')\n",
    "signatures_paths, signatures = read_signatures('data/signatures.pkl')"
   ]
  },
  {
   "cell_type": "code",
   "execution_count": 3,
   "metadata": {
    "pycharm": {
     "is_executing": false
    }
   },
   "outputs": [
    {
     "name": "stdout",
     "output_type": "stream",
     "text": [
      "Net(\n",
      "  (fc1): Linear(in_features=4096, out_features=200, bias=True)\n",
      "  (fc2): Linear(in_features=200, out_features=200, bias=True)\n",
      "  (fc3): Linear(in_features=200, out_features=100, bias=True)\n",
      ")\n"
     ]
    }
   ],
   "source": [
    "import torch.nn as nn\n",
    "import torch.nn.functional as F\n",
    "from torch import optim\n",
    "\n",
    "IMAGE_DIM = 64\n",
    "NUM_CLASSES = 100\n",
    "learning_rate = 1e-4\n",
    "epochs = 500\n",
    "INPUT_DIM = 2048 # signatures[0].shape[0]\n",
    "\n",
    "\n",
    "class Net(nn.Module):\n",
    "    def __init__(self):\n",
    "        super(Net, self).__init__()\n",
    "        self.fc1 = nn.Linear(IMAGE_DIM * IMAGE_DIM, 200)\n",
    "        self.fc2 = nn.Linear(200, 200)\n",
    "        self.fc3 = nn.Linear(200, NUM_CLASSES)\n",
    "    \n",
    "    def forward(self, x):\n",
    "        x = F.relu(self.fc1(x))\n",
    "        x = F.relu(self.fc2(x))\n",
    "        x = self.fc3(x)\n",
    "        return F.log_softmax(x)\n",
    "    \n",
    "net = Net()\n",
    "print(net)\n",
    "\n",
    "optimizer = optim.SGD(net.parameters(), lr=learning_rate, momentum=0.9)\n",
    "loss_fn = nn.NLLLoss()"
   ]
  },
  {
   "cell_type": "code",
   "execution_count": 4,
   "metadata": {
    "pycharm": {
     "is_executing": false
    }
   },
   "outputs": [],
   "source": [
    "# from tqdm import tqdm\n",
    "# for t in tqdm(range(epochs)):\n",
    "#     y_pred = net(x)\n",
    "#     loss = loss_fn(y_pred, y)\n",
    "#     if t % 100 == 99:\n",
    "#         print(t, loss.item())\n",
    "#     model.zero_grad()\n",
    "#     loss.backward()\n",
    "#     optimizer.step()"
   ]
  },
  {
   "cell_type": "code",
   "execution_count": 5,
   "metadata": {
    "pycharm": {
     "is_executing": false
    }
   },
   "outputs": [],
   "source": [
    "from torch.utils.data import Dataset, DataLoader\n",
    "import torch\n",
    "import os\n",
    "DATA_DIR = 'data/'\n",
    "IMAGES_FILE = 'images.tar'\n",
    "POSE_FILE = 'pose.pkl'\n",
    "SIGNATURES_FILE = 'signatures.pkl'\n",
    "\n",
    "IMAGES_FILE_TEST = 'images_test.tar'\n",
    "POSE_FILE_TEST = 'pose_test.pkl'\n",
    "SIGNATURES_FILE_TEST = 'signatures_test.pkl'"
   ]
  },
  {
   "cell_type": "code",
   "execution_count": 6,
   "metadata": {},
   "outputs": [],
   "source": [
    "def get_pose_dists(pose):\n",
    "    return torch.Tensor([x for x in np.array([np.sqrt(sum((kp_1 - kp_2) ** 2, 0)) for kp_1 in pose for kp_2 in pose]) if x != 0])"
   ]
  },
  {
   "cell_type": "code",
   "execution_count": 7,
   "metadata": {
    "pycharm": {
     "is_executing": false,
     "name": "#%%\n"
    }
   },
   "outputs": [],
   "source": [
    "class OrcamDataset(Dataset):\n",
    "    def __init__(self, data_dir, train=True, filter_signatures=True):\n",
    "        self.data_dir = data_dir\n",
    "        im_file = os.path.join(data_dir, IMAGES_FILE if train else IMAGES_FILE_TEST)\n",
    "        pose_file = os.path.join(data_dir, POSE_FILE if train else POSE_FILE_TEST)\n",
    "        sig_file = os.path.join(data_dir, SIGNATURES_FILE if train else SIGNATURES_FILE_TEST)\n",
    "        self.pose_paths, self.keypoints, self.scores = read_pose(pose_file)\n",
    "        self.signatures_paths, self.signatures = read_signatures(sig_file)\n",
    "        self.signatures = torch.Tensor(self.signatures)\n",
    "        self.images = Images(im_file)\n",
    "        self.actual_paths = list(set(self.images.paths) & set(self.signatures_paths))\n",
    "    def __len__(self):\n",
    "        return len(self.actual_paths)\n",
    "\n",
    "    @staticmethod\n",
    "    def get_label(path):\n",
    "        slash = path.find('/')\n",
    "        underscore = path.find('_')\n",
    "        num_str = path[underscore + 1:slash]\n",
    "        return int(num_str)\n",
    "\n",
    "    def __getitem__(self, idx):\n",
    "        if torch.is_tensor(idx):\n",
    "            idx = idx.tolist()\n",
    "        path = self.actual_paths[idx]\n",
    "        sign_idx = self.signatures_paths.index(path)\n",
    "        signature = self.signatures[sign_idx]\n",
    "        pose_idx = self.pose_paths.index(path)\n",
    "        pose = self.keypoints[pose_idx]\n",
    "        image = self.images[path]\n",
    "        image = torch.Tensor(image.copy())\n",
    "        label = self.get_label(path)\n",
    "        pose_dist = get_pose_dists(pose)\n",
    "        sample = {'image': image, \"signature\": signature, \"pose\": pose_dist, \"label\": torch.Tensor([label])}\n",
    "        return sample\n"
   ]
  },
  {
   "cell_type": "code",
   "execution_count": 11,
   "metadata": {
    "pycharm": {
     "is_executing": false,
     "name": "#%%\n"
    }
   },
   "outputs": [],
   "source": [
    "import matplotlib.pyplot as plt\n",
    "dataset = OrcamDataset(DATA_DIR, train=True)\n",
    "dataload = DataLoader(dataset, batch_size=16, shuffle=True, num_workers=1)"
   ]
  },
  {
   "cell_type": "code",
   "execution_count": 11,
   "metadata": {
    "pycharm": {
     "is_executing": false,
     "name": "#%%\n"
    }
   },
   "outputs": [
    {
     "name": "stdout",
     "output_type": "stream",
     "text": [
      "torch.Size([16, 64, 64, 3])\n",
      "torch.Size([16, 2048])\n",
      "torch.Size([16, 272])\n",
      "torch.Size([16, 64, 64, 3])\n",
      "torch.Size([16, 2048])\n",
      "torch.Size([16, 272])\n",
      "torch.Size([16, 64, 64, 3])\n",
      "torch.Size([16, 2048])\n",
      "torch.Size([16, 272])\n",
      "torch.Size([16, 64, 64, 3])\n",
      "torch.Size([16, 2048])\n",
      "torch.Size([16, 272])\n",
      "torch.Size([16, 64, 64, 3])\n",
      "torch.Size([16, 2048])\n",
      "torch.Size([16, 272])\n",
      "torch.Size([16, 64, 64, 3])\n",
      "torch.Size([16, 2048])\n",
      "torch.Size([16, 272])\n",
      "torch.Size([16, 64, 64, 3])\n",
      "torch.Size([16, 2048])\n",
      "torch.Size([16, 272])\n",
      "torch.Size([16, 64, 64, 3])\n",
      "torch.Size([16, 2048])\n",
      "torch.Size([16, 272])\n",
      "torch.Size([16, 64, 64, 3])\n",
      "torch.Size([16, 2048])\n",
      "torch.Size([16, 272])\n",
      "torch.Size([16, 64, 64, 3])\n",
      "torch.Size([16, 2048])\n",
      "torch.Size([16, 272])\n"
     ]
    }
   ],
   "source": [
    "n = 10\n",
    "for i, batch in enumerate(dataload):\n",
    "    if i == n:\n",
    "        break\n",
    "    # break\n",
    "    print(batch['image'].size())\n",
    "    print(batch['signature'].size())\n",
    "    print(batch['pose'].size())\n",
    "#     ax = plt.subplot(1, n, i+1)\n",
    "#     plt.tight_layout()\n",
    "#     ax.set_title('#{}'.format(i))\n",
    "#     ax.axis('off')\n",
    "#     plt.imshow(image)\n",
    "    \n",
    "    "
   ]
  },
  {
   "cell_type": "code",
   "execution_count": null,
   "metadata": {},
   "outputs": [],
   "source": []
  }
 ],
 "metadata": {
  "kernelspec": {
   "display_name": "Python 3",
   "language": "python",
   "name": "python3"
  },
  "language_info": {
   "codemirror_mode": {
    "name": "ipython",
    "version": 3
   },
   "file_extension": ".py",
   "mimetype": "text/x-python",
   "name": "python",
   "nbconvert_exporter": "python",
   "pygments_lexer": "ipython3",
   "version": "3.6.4"
  },
  "pycharm": {
   "stem_cell": {
    "cell_type": "raw",
    "metadata": {
     "collapsed": false
    },
    "source": []
   }
  }
 },
 "nbformat": 4,
 "nbformat_minor": 2
}
