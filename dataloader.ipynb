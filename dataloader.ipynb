{
 "cells": [
  {
   "cell_type": "markdown",
   "metadata": {},
   "source": [
    "#### model = Concat signatures with pose -> Dense -> softmax with 100 classes. \n",
    "#### run model for each frame in a seq, and then take majority vote"
   ]
  },
  {
   "cell_type": "code",
   "execution_count": 2,
   "metadata": {
    "pycharm": {
     "is_executing": false
    }
   },
   "outputs": [],
   "source": [
    "from data import *"
   ]
  },
  {
   "cell_type": "code",
   "execution_count": 3,
   "metadata": {
    "pycharm": {
     "is_executing": false
    }
   },
   "outputs": [
    {
     "traceback": [
      "\u001b[0;31m---------------------------------------------------------------------------\u001b[0m",
      "\u001b[0;31mFileNotFoundError\u001b[0m                         Traceback (most recent call last)",
      "\u001b[0;32m<ipython-input-3-8cf2ad614c41>\u001b[0m in \u001b[0;36m<module>\u001b[0;34m()\u001b[0m\n\u001b[1;32m      1\u001b[0m \u001b[0;34m\u001b[0m\u001b[0m\n\u001b[0;32m----> 2\u001b[0;31m \u001b[0mpose_paths\u001b[0m\u001b[0;34m,\u001b[0m \u001b[0mkeypoints\u001b[0m\u001b[0;34m,\u001b[0m \u001b[0mscores\u001b[0m \u001b[0;34m=\u001b[0m \u001b[0mread_pose\u001b[0m\u001b[0;34m(\u001b[0m\u001b[0;34m'data/pose.pkl'\u001b[0m\u001b[0;34m)\u001b[0m\u001b[0;34m\u001b[0m\u001b[0m\n\u001b[0m\u001b[1;32m      3\u001b[0m \u001b[0msignatures_paths\u001b[0m\u001b[0;34m,\u001b[0m \u001b[0msignatures\u001b[0m \u001b[0;34m=\u001b[0m \u001b[0mread_signatures\u001b[0m\u001b[0;34m(\u001b[0m\u001b[0;34m'data/signatures.pkl'\u001b[0m\u001b[0;34m)\u001b[0m\u001b[0;34m\u001b[0m\u001b[0m\n\u001b[1;32m      4\u001b[0m \u001b[0;34m\u001b[0m\u001b[0m\n",
      "\u001b[0;32m~/workspace/DeepTIME-Datahack2019/data.py\u001b[0m in \u001b[0;36mread_pose\u001b[0;34m(pose_path)\u001b[0m\n\u001b[1;32m    110\u001b[0m \u001b[0;32mdef\u001b[0m \u001b[0mread_pose\u001b[0m\u001b[0;34m(\u001b[0m\u001b[0mpose_path\u001b[0m\u001b[0;34m)\u001b[0m\u001b[0;34m:\u001b[0m\u001b[0;34m\u001b[0m\u001b[0m\n\u001b[1;32m    111\u001b[0m     \u001b[0;31m# Read the pose points from file\u001b[0m\u001b[0;34m\u001b[0m\u001b[0;34m\u001b[0m\u001b[0m\n\u001b[0;32m--> 112\u001b[0;31m     \u001b[0mdata\u001b[0m \u001b[0;34m=\u001b[0m \u001b[0mcompatible_load\u001b[0m\u001b[0;34m(\u001b[0m\u001b[0mpose_path\u001b[0m\u001b[0;34m)\u001b[0m\u001b[0;34m\u001b[0m\u001b[0m\n\u001b[0m\u001b[1;32m    113\u001b[0m     \u001b[0mkeypoints\u001b[0m \u001b[0;34m=\u001b[0m \u001b[0mdata\u001b[0m\u001b[0;34m[\u001b[0m\u001b[0;34m'keypoints'\u001b[0m\u001b[0;34m]\u001b[0m\u001b[0;34m\u001b[0m\u001b[0m\n\u001b[1;32m    114\u001b[0m     \u001b[0mscores\u001b[0m \u001b[0;34m=\u001b[0m \u001b[0mdata\u001b[0m\u001b[0;34m[\u001b[0m\u001b[0;34m'scores'\u001b[0m\u001b[0;34m]\u001b[0m\u001b[0;34m\u001b[0m\u001b[0m\n",
      "\u001b[0;32m~/workspace/DeepTIME-Datahack2019/data.py\u001b[0m in \u001b[0;36mcompatible_load\u001b[0;34m(path)\u001b[0m\n\u001b[1;32m     98\u001b[0m     \u001b[0;31m# pickle loading compatible for pyton 2/3\u001b[0m\u001b[0;34m\u001b[0m\u001b[0;34m\u001b[0m\u001b[0m\n\u001b[1;32m     99\u001b[0m     \u001b[0mdata\u001b[0m \u001b[0;34m=\u001b[0m \u001b[0;32mNone\u001b[0m\u001b[0;34m\u001b[0m\u001b[0m\n\u001b[0;32m--> 100\u001b[0;31m     \u001b[0;32mwith\u001b[0m \u001b[0mopen\u001b[0m\u001b[0;34m(\u001b[0m\u001b[0mpath\u001b[0m\u001b[0;34m,\u001b[0m \u001b[0;34m'rb'\u001b[0m\u001b[0;34m)\u001b[0m \u001b[0;32mas\u001b[0m \u001b[0mfid\u001b[0m\u001b[0;34m:\u001b[0m\u001b[0;34m\u001b[0m\u001b[0m\n\u001b[0m\u001b[1;32m    101\u001b[0m         \u001b[0;32mtry\u001b[0m\u001b[0;34m:\u001b[0m\u001b[0;34m\u001b[0m\u001b[0m\n\u001b[1;32m    102\u001b[0m             \u001b[0mdata\u001b[0m \u001b[0;34m=\u001b[0m \u001b[0mpkl\u001b[0m\u001b[0;34m.\u001b[0m\u001b[0mload\u001b[0m\u001b[0;34m(\u001b[0m\u001b[0mfid\u001b[0m\u001b[0;34m)\u001b[0m\u001b[0;34m\u001b[0m\u001b[0m\n",
      "\u001b[0;31mFileNotFoundError\u001b[0m: [Errno 2] No such file or directory: 'data/pose.pkl'"
     ],
     "ename": "FileNotFoundError",
     "evalue": "[Errno 2] No such file or directory: 'data/pose.pkl'",
     "output_type": "error"
    }
   ],
   "source": [
    "pose_paths, keypoints, scores = read_pose('data/pose.pkl')\n",
    "signatures_paths, signatures = read_signatures('data/signatures.pkl')"
   ]
  },
  {
   "cell_type": "code",
   "execution_count": 4,
   "metadata": {
    "pycharm": {
     "is_executing": false
    }
   },
   "outputs": [
    {
     "name": "stdout",
     "text": [
      "Net(\n  (fc1): Linear(in_features=4096, out_features=200, bias=True)\n  (fc2): Linear(in_features=200, out_features=200, bias=True)\n  (fc3): Linear(in_features=200, out_features=100, bias=True)\n)\n"
     ],
     "output_type": "stream"
    }
   ],
   "source": [
    "import torch.nn as nn\n",
    "import torch.nn.functional as F\n",
    "from torch import optim\n",
    "\n",
    "IMAGE_DIM = 64\n",
    "NUM_CLASSES = 100\n",
    "learning_rate = 1e-4\n",
    "epochs = 500\n",
    "INPUT_DIM = 2048 # signatures[0].shape[0]\n",
    "\n",
    "\n",
    "class Net(nn.Module):\n",
    "    def __init__(self):\n",
    "        super(Net, self).__init__()\n",
    "        self.fc1 = nn.Linear(IMAGE_DIM * IMAGE_DIM, 200)\n",
    "        self.fc2 = nn.Linear(200, 200)\n",
    "        self.fc3 = nn.Linear(200, NUM_CLASSES)\n",
    "    \n",
    "    def forward(self, x):\n",
    "        x = F.relu(self.fc1(x))\n",
    "        x = F.relu(self.fc2(x))\n",
    "        x = self.fc3(x)\n",
    "        return F.log_softmax(x)\n",
    "    \n",
    "net = Net()\n",
    "print(net)\n",
    "\n",
    "optimizer = optim.SGD(net.parameters(), lr=learning_rate, momentum=0.9)\n",
    "loss_fn = nn.NLLLoss()"
   ]
  },
  {
   "cell_type": "code",
   "execution_count": 5,
   "metadata": {
    "pycharm": {
     "is_executing": false
    }
   },
   "outputs": [],
   "source": [
    "# from tqdm import tqdm\n",
    "# for t in tqdm(range(epochs)):\n",
    "#     y_pred = net(x)\n",
    "#     loss = loss_fn(y_pred, y)\n",
    "#     if t % 100 == 99:\n",
    "#         print(t, loss.item())\n",
    "#     model.zero_grad()\n",
    "#     loss.backward()\n",
    "#     optimizer.step()"
   ]
  },
  {
   "cell_type": "code",
   "execution_count": 6,
   "metadata": {
    "pycharm": {
     "is_executing": false
    }
   },
   "outputs": [],
   "source": [
    "from torch.utils.data import Dataset, DataLoader\n",
    "import torch\n",
    "import torchvision.models as models\n",
    "import os\n",
    "DATA_DIR = 'data/'\n",
    "TEST_DIR = 'test_data/'\n",
    "REAL_DIR = 'real_data/'\n",
    "IMAGES_FILE = 'images.tar'\n",
    "POSE_FILE = 'pose.pkl'\n",
    "SIGNATURES_FILE = 'signatures.pkl'"
   ]
  },
  {
   "cell_type": "code",
   "execution_count": 7,
   "metadata": {
    "pycharm": {
     "is_executing": false,
     "name": "#%%\n"
    }
   },
   "outputs": [],
   "source": [
    "class OrcamDataset(Dataset):\n",
    "    def __init__(self, data_dir, train=True, filter_signatures=True):\n",
    "        self.data_dir = data_dir\n",
    "        im_file = os.path.join(data_dir, IMAGES_FILE)\n",
    "        pose_file = os.path.join(data_dir, POSE_FILE)\n",
    "        sig_file = os.path.join(data_dir, SIGNATURES_FILE)\n",
    "        self.pose_paths, self.keypoints, self.scores = read_pose(pose_file)\n",
    "        self.signatures_paths, self.signatures = read_signatures(sig_file)\n",
    "        self.signatures = torch.Tensor(self.signatures)\n",
    "        self.images = Images(im_file)\n",
    "        if filter_signatures:\n",
    "            self.actual_paths = list(set(self.images.paths) & set(self.signatures_paths))\n",
    "        else:\n",
    "            raise NotImplementedErrorׂ('Should add pretrained net instead of sig')\n",
    "            self.actual_paths = self.images.paths\n",
    "    \n",
    "    def __len__(self):\n",
    "        return len(self.actual_paths)\n",
    "    \n",
    "    @staticmethod\n",
    "    def get_pose_dists(pose):\n",
    "        return torch.Tensor([x for x in np.array([np.sqrt(sum((kp_1 - kp_2) ** 2, 0)) for kp_1 in pose for kp_2 in pose]) if x != 0])\n",
    "\n",
    "    @staticmethod\n",
    "    def get_label(path):\n",
    "        slash = path.find('/')\n",
    "        underscore = path.find('_')\n",
    "        num_str = path[underscore + 1:slash]\n",
    "        return int(num_str)\n",
    "\n",
    "    def __getitem__(self, idx):\n",
    "        if torch.is_tensor(idx):\n",
    "            idx = idx.tolist()\n",
    "        path = self.actual_paths[idx]\n",
    "        sign_idx = self.signatures_paths.index(path)\n",
    "        signature = self.signatures[sign_idx]\n",
    "        pose_idx = self.pose_paths.index(path)\n",
    "        pose = self.keypoints[pose_idx]\n",
    "        image = self.images[path]\n",
    "        image = torch.Tensor(image.copy())\n",
    "        label = self.get_label(path)\n",
    "        pose_dist = self.get_pose_dists(pose)\n",
    "        sample = {'image': image, \"signature\": signature, \"pose\": pose_dist, \"label\": torch.Tensor([label])}\n",
    "        return sample\n"
   ]
  },
  {
   "cell_type": "code",
   "execution_count": 11,
   "metadata": {
    "pycharm": {
     "is_executing": false,
     "name": "#%%\n"
    }
   },
   "outputs": [
    {
     "name": "stdout",
     "text": [
      "Indexing tar file, this could take a few minutes...\n",
      "done\n"
     ],
     "output_type": "stream"
    }
   ],
   "source": [
    "import matplotlib.pyplot as plt\n",
    "dataset = OrcamDataset(REAL_DIR, train=True)\n",
    "dataload = DataLoader(dataset, batch_size=16, shuffle=True, num_workers=1)"
   ]
  },
  {
   "cell_type": "code",
   "execution_count": 12,
   "metadata": {
    "pycharm": {
     "is_executing": false,
     "name": "#%%\n"
    }
   },
   "outputs": [
    {
     "name": "stdout",
     "text": [
      "torch.Size([16, 64, 64, 3])\ntorch.Size([16, 2048])\ntorch.Size([16, 272])\ntorch.Size([16, 64, 64, 3])\ntorch.Size([16, 2048])\ntorch.Size([16, 272])\n",
      "torch.Size([16, 64, 64, 3])\ntorch.Size([16, 2048])\ntorch.Size([16, 272])\ntorch.Size([16, 64, 64, 3])\ntorch.Size([16, 2048])\ntorch.Size([16, 272])\n",
      "torch.Size([16, 64, 64, 3])\ntorch.Size([16, 2048])\ntorch.Size([16, 272])\ntorch.Size([16, 64, 64, 3])\ntorch.Size([16, 2048])\ntorch.Size([16, 272])\n",
      "torch.Size([16, 64, 64, 3])\ntorch.Size([16, 2048])\ntorch.Size([16, 272])\ntorch.Size([16, 64, 64, 3])\ntorch.Size([16, 2048])\ntorch.Size([16, 272])\n",
      "torch.Size([16, 64, 64, 3])\ntorch.Size([16, 2048])\ntorch.Size([16, 272])\ntorch.Size([16, 64, 64, 3])\ntorch.Size([16, 2048])\ntorch.Size([16, 272])\n"
     ],
     "output_type": "stream"
    }
   ],
   "source": [
    "n = 10\n",
    "for i, batch in enumerate(dataload):\n",
    "    if i == n:\n",
    "        break\n",
    "    # break\n",
    "    print(batch['image'].size())\n",
    "    print(batch['signature'].size())\n",
    "    print(batch['pose'].size())\n",
    "#     ax = plt.subplot(1, n, i+1)\n",
    "#     plt.tight_layout()\n",
    "#     ax.set_title('#{}'.format(i))\n",
    "#     ax.axis('off')\n",
    "#     plt.imshow(image)\n",
    "    \n",
    "    "
   ]
  },
  {
   "cell_type": "code",
   "execution_count": 14,
   "metadata": {
    "pycharm": {
     "name": "#%%\n",
     "is_executing": false
    }
   },
   "outputs": [
    {
     "name": "stdout",
     "text": [
      "Indexing tar file, this could take a few minutes...\n",
      "done\n"
     ],
     "output_type": "stream"
    }
   ],
   "source": [
    "    #try load test data\n",
    "    data_dir = TEST_DIR\n",
    "    im_file = os.path.join(data_dir, IMAGES_FILE)\n",
    "    pose_file = os.path.join(data_dir, POSE_FILE)\n",
    "    sig_file = os.path.join(data_dir, SIGNATURES_FILE)\n",
    "    pose_paths, keypoints, scores = read_pose(pose_file)\n",
    "    signatures_paths, signatures = read_signatures(sig_file)\n",
    "    signatures = torch.Tensor(signatures)\n",
    "    images = Images(im_file)"
   ]
  },
  {
   "cell_type": "code",
   "execution_count": 16,
   "metadata": {
    "pycharm": {
     "is_executing": false
    }
   },
   "outputs": [
    {
     "name": "stdout",
     "text": [
      "['seq_0000/frame_0000', 'seq_0000/frame_0001', 'seq_0000/frame_0002', 'seq_0000/frame_0003', 'seq_0000/frame_0004', 'seq_0000/frame_0005', 'seq_0000/frame_0006', 'seq_0000/frame_0007', 'seq_0000/frame_0008', 'seq_0000/frame_0009']\n"
     ],
     "output_type": "stream"
    }
   ],
   "source": [
    "print(images.paths[:10])"
   ]
  },
  {
   "cell_type": "code",
   "execution_count": null,
   "outputs": [],
   "source": [
    "print('hey')\n",
    "\n",
    "\n"
   ],
   "metadata": {
    "collapsed": false,
    "pycharm": {
     "name": "#%%\n"
    }
   }
  }
 ],
 "metadata": {
  "kernelspec": {
   "display_name": "Python 3",
   "language": "python",
   "name": "python3"
  },
  "language_info": {
   "codemirror_mode": {
    "name": "ipython",
    "version": 3
   },
   "file_extension": ".py",
   "mimetype": "text/x-python",
   "name": "python",
   "nbconvert_exporter": "python",
   "pygments_lexer": "ipython3",
   "version": "3.6.4"
  },
  "pycharm": {
   "stem_cell": {
    "cell_type": "raw",
    "source": [],
    "metadata": {
     "collapsed": false
    }
   }
  }
 },
 "nbformat": 4,
 "nbformat_minor": 2
}